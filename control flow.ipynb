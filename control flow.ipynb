{
 "cells": [
  {
   "cell_type": "code",
   "execution_count": 1,
   "id": "356ab895-c925-4159-b848-2c727a940634",
   "metadata": {},
   "outputs": [],
   "source": [
    "#1. Write a Python program to check if a given number is positive or negative."
   ]
  },
  {
   "cell_type": "code",
   "execution_count": null,
   "id": "9ff1c598-b604-4bbb-83cd-1912af0c5c28",
   "metadata": {},
   "outputs": [],
   "source": [
    "num = int(input(\"enter the number\"))\n",
    "if(num<0):\n",
    "    print(\"negative\")\n",
    "else:\n",
    "    print(\"positive\")"
   ]
  },
  {
   "cell_type": "code",
   "execution_count": null,
   "id": "e80371a6-b082-4c41-a152-f9fefaa1bfd5",
   "metadata": {},
   "outputs": [],
   "source": [
    "#2. Create a program that determines if a person is eligible to vote based on their age"
   ]
  },
  {
   "cell_type": "code",
   "execution_count": null,
   "id": "912a4b5b-9487-4663-8098-75584065f239",
   "metadata": {},
   "outputs": [],
   "source": [
    "age = int(input(\"enter the number\"))\n",
    "if(age>=18):\n",
    "    print(\"you are eligible to vote\")\n",
    "else:\n",
    "    print(\"you are not eligible to vote\")"
   ]
  },
  {
   "cell_type": "code",
   "execution_count": null,
   "id": "09a1a4ed-c3d6-4a4e-807c-6c3fb9e3b461",
   "metadata": {},
   "outputs": [],
   "source": [
    "#3. Develop a program to find the maximum of two numbers using if-else statements"
   ]
  },
  {
   "cell_type": "code",
   "execution_count": null,
   "id": "16f7ea32-5d4e-497c-9045-091284e6f1e7",
   "metadata": {},
   "outputs": [],
   "source": [
    "n = int(input(\"enter the first number\"))\n",
    "n1 = int(input(\"enter the second number\"))\n",
    "if(n<n1):\n",
    "    print(\"n1 is largest:\")\n",
    "else:\n",
    "    print(\"n is a largest:\")"
   ]
  },
  {
   "cell_type": "code",
   "execution_count": null,
   "id": "99b6b2bc-e1e6-475f-94c4-5d0a58ff105c",
   "metadata": {},
   "outputs": [],
   "source": [
    "#4. Write a Python script to classify a given year as a leap year or not"
   ]
  },
  {
   "cell_type": "code",
   "execution_count": null,
   "id": "bd9ee30d-19d4-4278-9130-331e42cd1218",
   "metadata": {},
   "outputs": [],
   "source": [
    "year = int(input(\"enter the year\"))\n",
    "if(year%4 == 0 and year%100 != 0 or year%400 == 0):\n",
    "    print(\"this is a leap year\")\n",
    "else:\n",
    "    print(\"this is not a leap year\")"
   ]
  },
  {
   "cell_type": "code",
   "execution_count": null,
   "id": "26c7f330-f6c4-4a32-8093-0e5fdbf824b3",
   "metadata": {},
   "outputs": [],
   "source": [
    "#5. Create a program that checks whether a character is a vowel or a consonant."
   ]
  },
  {
   "cell_type": "code",
   "execution_count": null,
   "id": "7618a734-ce13-45bb-9ba0-5280d2797e90",
   "metadata": {},
   "outputs": [],
   "source": [
    "result = \"aeiouAEIOU\"\n",
    "char = input()\n",
    "if(char in result):\n",
    "    print(\"vowels\")\n",
    "else:\n",
    "    print(\"consant\")"
   ]
  },
  {
   "cell_type": "code",
   "execution_count": null,
   "id": "807ed548-c495-40c5-a1ae-307187ff61c2",
   "metadata": {},
   "outputs": [],
   "source": [
    "#6. Implement a program to determine whether a given number is even or odd"
   ]
  },
  {
   "cell_type": "code",
   "execution_count": null,
   "id": "75db1724-12df-4e3a-9c6e-da1ca9b45a71",
   "metadata": {},
   "outputs": [],
   "source": [
    "n = int(input(\"enter the number\"))\n",
    "if(n%2 == 0):\n",
    "    print(\"even number:\")\n",
    "else:\n",
    "    print(\"odd number\")"
   ]
  },
  {
   "cell_type": "code",
   "execution_count": null,
   "id": "d7e6722f-5330-4ea5-aa58-bc72aefb9ac3",
   "metadata": {},
   "outputs": [],
   "source": [
    "#7. Write a Python function to calculate the absolute value of a number without using the `abs()` function."
   ]
  },
  {
   "cell_type": "code",
   "execution_count": null,
   "id": "3e20888a-f309-4915-98ae-bd8c30532627",
   "metadata": {},
   "outputs": [],
   "source": [
    "list = [12,-1,23,-67,0]\n",
    "count = 0\n",
    "for i in list:\n",
    "    if(i>=0):\n",
    "        count = count+1\n",
    "print(\"absolute value is:\",count)\n"
   ]
  },
  {
   "cell_type": "code",
   "execution_count": null,
   "id": "529c3bd0-45bc-45b4-b29b-0144b956d510",
   "metadata": {},
   "outputs": [],
   "source": [
    "8. Develop a program that determines the largest of three given numbers using if-else statements."
   ]
  },
  {
   "cell_type": "code",
   "execution_count": null,
   "id": "72a6aaf2-2e4f-421f-902a-7b64679b7ddc",
   "metadata": {},
   "outputs": [],
   "source": [
    "n = int(input(\"enter the number\"))\n",
    "n1 = int(input(\"enter the number\"))\n",
    "n2 = int(input(\"enter the number\"))\n",
    "largest = 0\n",
    "if(n>n1 and n>n2):\n",
    "    largest = n\n",
    "elif(n1>n and n1>n2):\n",
    "    largest = n1\n",
    "else:\n",
    "    largest = n2\n",
    "print(largest)"
   ]
  },
  {
   "cell_type": "code",
   "execution_count": null,
   "id": "97094811-2003-48d7-b33e-e7bc915ed9de",
   "metadata": {},
   "outputs": [],
   "source": [
    "9. Create a program that checks if a given string is a palindrome."
   ]
  },
  {
   "cell_type": "code",
   "execution_count": null,
   "id": "02a6eb85-3d7b-4c2e-a5e8-a5432d8dc61a",
   "metadata": {},
   "outputs": [],
   "source": [
    "str = input(\"enter the string\")\n",
    "result = str[::-1]\n",
    "if(str == result):\n",
    "    print(\"pallindrome\")\n",
    "else:\n",
    "    print(\"not pallindrome\")"
   ]
  },
  {
   "cell_type": "code",
   "execution_count": null,
   "id": "44ca8fc6-b98c-4596-85f2-8bfee7abc566",
   "metadata": {},
   "outputs": [],
   "source": [
    "10. Write a Python program to calculate the grade based on a student's score"
   ]
  },
  {
   "cell_type": "code",
   "execution_count": null,
   "id": "5334c4c3-2159-446c-9f6b-2e3e1a49d91b",
   "metadata": {},
   "outputs": [],
   "source": [
    "marks = int(input(\"enter the number\"))\n",
    "if(marks>=75):\n",
    "    print(\"distinction\")\n",
    "elif(marks<75 or marks>60):\n",
    "    print(\"first division\")\n",
    "elif(marks<=60 or marks>=40):\n",
    "    print(\"2nd division\")\n",
    "else:\n",
    "    print(\"fail\")\n"
   ]
  },
  {
   "cell_type": "code",
   "execution_count": null,
   "id": "44b5af5f-8af2-4cc9-8d7d-bf7af2f055e4",
   "metadata": {},
   "outputs": [],
   "source": [
    " \n",
    "    \n",
    "    Nested If-Else Statements:\n",
    "    \n",
    "    "
   ]
  },
  {
   "cell_type": "code",
   "execution_count": null,
   "id": "a939df92-816d-43ef-9e04-5ef917468dd8",
   "metadata": {},
   "outputs": [],
   "source": [
    "#11. Write a program to find the largest among three numbers using nested if-else statements."
   ]
  },
  {
   "cell_type": "code",
   "execution_count": null,
   "id": "d338841a-7dc3-477f-99a6-5ab5b05b6c84",
   "metadata": {},
   "outputs": [],
   "source": [
    "num1 = int(input(\"enter the first number\"))\n",
    "num2 = int(input(\"enter the second number\"))\n",
    "num3 = int(input(\"enter the third number\"))\n",
    "largest = 0\n",
    "\n",
    "if num1>num2:\n",
    "    if num1>num3:\n",
    "        largest = num1\n",
    "    else:\n",
    "        largest = num3\n",
    "else:\n",
    "    if num2>num3:\n",
    "        largest = num2\n",
    "    else:\n",
    "        largest = num3\n",
    "print(largest)\n"
   ]
  },
  {
   "cell_type": "code",
   "execution_count": null,
   "id": "868c5a8c-77a1-47da-99b3-ecde376dec22",
   "metadata": {},
   "outputs": [],
   "source": [
    "12. Implement a program to determine if a triangle is equilateral, isosceles, or scalene."
   ]
  },
  {
   "cell_type": "code",
   "execution_count": null,
   "id": "ae740d62-734e-4012-916f-66d7e311107c",
   "metadata": {},
   "outputs": [],
   "source": [
    "side1 = int(input(\"enter the side1\"))\n",
    "side2 = int(input(\"enter the side2\"))\n",
    "side3 = int(input(\"enter the side3\"))\n",
    "if side1 + side2 >side3 and side3 + side2 > side1 and side1+side3>side2:\n",
    "    if side1 == side2 or side1 == side3 or side2 == side3:\n",
    "        print(\"isoscles\")\n",
    "    elif(side1 == side2 == side3):\n",
    "            print(\"equilateral\")\n",
    "    else:\n",
    "        print(\"salane\")"
   ]
  },
  {
   "cell_type": "code",
   "execution_count": null,
   "id": "08a9923e-f2d6-46e0-b545-9c1bb5c7ea5c",
   "metadata": {},
   "outputs": [],
   "source": [
    "13. Develop a program that checks if a year is a leap year and also if it is a century year."
   ]
  },
  {
   "cell_type": "code",
   "execution_count": null,
   "id": "56834da6-c962-4dfb-9998-89af5eadbb7d",
   "metadata": {},
   "outputs": [],
   "source": [
    "def is_leap_year(year):\n",
    "    if year % 4 == 0:\n",
    "        if year % 100 == 0:\n",
    "            if year % 400 == 0:\n",
    "                return True  # Divisible by 400, it's a leap year\n",
    "            else:\n",
    "                return False  # Divisible by 100 but not 400, not a leap year\n",
    "        else:\n",
    "            return True  # Divisible by 4 but not 100, it's a leap year\n",
    "    else:\n",
    "        return False  # Not divisible by 4, not a leap year\n",
    "\n",
    "def is_century_year(year):\n",
    "    return year % 100 == 0\n",
    "\n",
    "# Input from the user\n",
    "year = int(input(\"Enter a year: \"))\n",
    "\n",
    "if is_leap_year(year):\n",
    "    if is_century_year(year):\n",
    "        print(f\"{year} is a leap year and a century year.\")\n",
    "    else:\n",
    "        print(f\"{year} is a leap year but not a century year.\")\n",
    "else:\n",
    "    print(f\"{year} is not a leap year.\")\n"
   ]
  },
  {
   "cell_type": "code",
   "execution_count": null,
   "id": "321072ba-46e1-48dd-abdf-8d00385b085e",
   "metadata": {},
   "outputs": [],
   "source": [
    "14. Write a Python script to determine if a number is positive, negative, or zero."
   ]
  },
  {
   "cell_type": "code",
   "execution_count": null,
   "id": "b52ee539-d6cf-4d45-9fa6-47abc218ec48",
   "metadata": {},
   "outputs": [],
   "source": [
    "n = int(input(\"enter the number\"))\n",
    "if(n>0):\n",
    "    print(\"positive\")\n",
    "elif(n<0):\n",
    "    print(\"negative\")\n",
    "else:\n",
    "    print(\"zer0\")"
   ]
  },
  {
   "cell_type": "code",
   "execution_count": null,
   "id": "614733eb-9574-4d25-bf1a-abb24eb996e8",
   "metadata": {},
   "outputs": [],
   "source": [
    "#15. Create a program to check if a person is a teenager (between 13 and 19 years old)."
   ]
  },
  {
   "cell_type": "code",
   "execution_count": null,
   "id": "c2b56978-d08a-49a0-8df3-086ad52a65cc",
   "metadata": {},
   "outputs": [],
   "source": [
    "age = int(input(\"enter the age\"))\n",
    "if(age>=13 and age<=19):\n",
    "    print(\"teenager\")\n",
    "else:\n",
    "     print(\"not tenager\")"
   ]
  },
  {
   "cell_type": "code",
   "execution_count": null,
   "id": "218191ac-f187-483a-838b-1b47f020bd4e",
   "metadata": {},
   "outputs": [],
   "source": [
    "16. Develop a program that determines the type of angle based on its measure (acute, obtuse, or right)."
   ]
  },
  {
   "cell_type": "code",
   "execution_count": null,
   "id": "b43f77ab-1b93-45e4-929a-bbeacb07f52b",
   "metadata": {},
   "outputs": [],
   "source": [
    "angle = int(input(\"enter the angle\"))\n",
    "if(angle>0):\n",
    "    if(angle<90):\n",
    "        print(\"acute\")\n",
    "    elif(angle == 90):\n",
    "        print(\"right angle\")\n",
    "    else:\n",
    "        print(\"obtuse\")"
   ]
  },
  {
   "cell_type": "code",
   "execution_count": null,
   "id": "60c16514-0fa4-4f98-9951-88b60a032344",
   "metadata": {},
   "outputs": [],
   "source": [
    "17. Write a Python program to calculate the roots of a quadratic equation."
   ]
  },
  {
   "cell_type": "code",
   "execution_count": null,
   "id": "ed9459b1-c242-461f-9a46-78d5922d2858",
   "metadata": {},
   "outputs": [],
   "source": [
    "import math\n",
    "\n",
    "# Input coefficients a, b, and c from the user\n",
    "a = float(input(\"Enter coefficient a: \"))\n",
    "b = float(input(\"Enter coefficient b: \"))\n",
    "c = float(input(\"Enter coefficient c: \"))\n",
    "\n",
    "# Calculate the discriminant\n",
    "discriminant = b**2 - 4*a*c\n",
    "\n",
    "# Check if the discriminant is positive, negative, or zero\n",
    "if discriminant > 0:\n",
    "    # Two real and distinct roots\n",
    "    root1 = (-b + math.sqrt(discriminant)) / (2*a)\n",
    "    root2 = (-b - math.sqrt(discriminant)) / (2*a)\n",
    "    print(f\"Root 1: {root1}\")\n",
    "    print(f\"Root 2: {root2}\")\n",
    "elif discriminant == 0:\n",
    "    # One real root (repeated)\n",
    "    root = -b / (2*a)\n",
    "    print(f\"Root: {root}\")\n",
    "else:\n",
    "    # Complex roots\n",
    "    real_part = -b / (2*a)\n",
    "    imaginary_part = math.sqrt(abs(discriminant)) / (2*a)\n",
    "    print(f\"Root 1: {real_part} + {imaginary_part}i\")\n",
    "    print(f\"Root 2: {real_part} - {imaginary_part}i\")\n"
   ]
  },
  {
   "cell_type": "code",
   "execution_count": null,
   "id": "e1756bf8-ecc4-4d40-a0af-696b9b1a69af",
   "metadata": {},
   "outputs": [],
   "source": [
    "#18. Implement a program to determine the day of the week based on a user-provided number (1 for Monday, 2\n",
    "#for Tuesday, etc.)."
   ]
  },
  {
   "cell_type": "code",
   "execution_count": null,
   "id": "6d629d26-fe5c-4c6b-a5e4-89993365c987",
   "metadata": {},
   "outputs": [],
   "source": [
    "n = int(input(\"enter the number\"))\n",
    "if n>0:\n",
    "    if(n == 1):\n",
    "        print(\"monday\")\n",
    "    elif(n == 2):\n",
    "        print(\"tuesday\")\n",
    "    elif(n==3):\n",
    "        print(\"wednesday\")\n",
    "    elif(n==4):\n",
    "        print(\"thrusday\")\n",
    "    elif(n==5):\n",
    "        print(\"friday\")\n",
    "    elif(n==6):\n",
    "        print(\"saturday\")\n",
    "    else:\n",
    "        print(\"sunday\")\n",
    "\n"
   ]
  },
  {
   "cell_type": "code",
   "execution_count": null,
   "id": "a2db3879-333a-4c49-b095-1d611c1263d2",
   "metadata": {},
   "outputs": [],
   "source": [
    "19. Create a program that determines if a year is a leap year and also if it is evenly divisible by 400"
   ]
  },
  {
   "cell_type": "code",
   "execution_count": null,
   "id": "b934263d-30e1-4d74-a5d6-7abae0b8d05c",
   "metadata": {},
   "outputs": [],
   "source": [
    "# Input a year from the user\n",
    "try:\n",
    "    year = int(input(\"Enter a year: \"))\n",
    "    \n",
    "    # Check if the year is a leap year\n",
    "    if (year % 4 == 0 and year % 100 != 0) or (year % 400 == 0):\n",
    "        print(f\"{year} is a leap year.\")\n",
    "    else:\n",
    "        print(f\"{year} is not a leap year.\")\n",
    "except ValueError:\n",
    "    print(\"Invalid input. Please enter a valid year as an integer.\")\n"
   ]
  },
  {
   "cell_type": "code",
   "execution_count": null,
   "id": "3b6274f5-53bd-49ea-ad66-808be33f8b36",
   "metadata": {},
   "outputs": [],
   "source": [
    "20. Develop a program that checks if a given number is prime or not using nested if-else statements"
   ]
  },
  {
   "cell_type": "code",
   "execution_count": null,
   "id": "a1730e50-67fa-4a5c-b577-00d93c5c5a9c",
   "metadata": {},
   "outputs": [],
   "source": [
    "# Function to check if a number is prime\n",
    "def is_prime(number):\n",
    "    if number <= 1:\n",
    "        return False\n",
    "    elif number <= 3:\n",
    "        return True\n",
    "    elif number % 2 == 0 or number % 3 == 0:\n",
    "        return False\n",
    "    else:\n",
    "        i = 5\n",
    "        while i * i <= number:\n",
    "            if number % i == 0 or number % (i + 2) == 0:\n",
    "                return False\n",
    "            i += 6\n",
    "        return True\n",
    "\n",
    "# Input a number from the user\n",
    "try:\n",
    "    num = int(input(\"Enter a number: \"))\n",
    "    \n",
    "    # Check if the number is prime and display the result\n",
    "    if is_prime(num):\n",
    "        print(f\"{num} is a prime number.\")\n",
    "    else:\n",
    "        print(f\"{num} is not a prime number.\")\n",
    "except ValueError:\n",
    "    print(\"Invalid input. Please enter a valid number.\")\n"
   ]
  },
  {
   "cell_type": "code",
   "execution_count": null,
   "id": "d270f247-481e-4635-a8d3-b0dc58f58c12",
   "metadata": {},
   "outputs": [],
   "source": [
    "21. Write a Python program to assign grades based on different ranges of scores using elif statements."
   ]
  },
  {
   "cell_type": "code",
   "execution_count": null,
   "id": "c0cd99b7-0df5-4b78-8b74-5dee1af8436e",
   "metadata": {},
   "outputs": [],
   "source": [
    "marks = int(input(\"Enter the marks: \"))\n",
    "\n",
    "if marks > 0:\n",
    "    if marks >= 75:\n",
    "        print(\"A+\")\n",
    "    elif marks < 75 and marks >= 65:\n",
    "        print(\"A\")\n",
    "    elif marks < 65 and marks >= 55:\n",
    "        print(\"B\")\n",
    "    elif marks < 55 and marks >= 49:\n",
    "        print(\"C\")\n",
    "    elif marks < 49 and marks >= 33:\n",
    "        print(\"D\")\n",
    "    elif marks < 33 and marks >= 0:\n",
    "        print(\"E\")\n",
    "    else:\n",
    "        print(\"F\")\n",
    "else:\n",
    "    print(\"Invalid input. Marks must be greater than 0.\")\n",
    "\n",
    "\n",
    "    "
   ]
  },
  {
   "cell_type": "code",
   "execution_count": null,
   "id": "0b2e9545-1c2c-45bf-95cb-b86a13a04303",
   "metadata": {},
   "outputs": [],
   "source": [
    "22. Implement a program to determine the type of a triangle based on its angles."
   ]
  },
  {
   "cell_type": "code",
   "execution_count": null,
   "id": "fcd2b44c-cf89-45f2-819e-c0fc8a33e26b",
   "metadata": {},
   "outputs": [],
   "source": [
    "angle = int(input(\"enter the angle\"))\n",
    "if angle<90:\n",
    "    print(\"actue angle:\",angle)\n",
    "elif angle == 90:\n",
    "    print(\"right angle triangle\",angle)\n",
    "else:\n",
    "    print(\"obtuse angle\",angle)"
   ]
  },
  {
   "cell_type": "code",
   "execution_count": null,
   "id": "8d3ce168-a26a-4af4-abb3-05e88e398985",
   "metadata": {},
   "outputs": [],
   "source": [
    "23. Develop a program to categorize a given person's BMI into underweight, normal, overweight, or obese using\n",
    "elif statements."
   ]
  },
  {
   "cell_type": "code",
   "execution_count": null,
   "id": "c8320c2a-f074-40d8-a5dd-1a879d7eb156",
   "metadata": {},
   "outputs": [],
   "source": [
    "# Input from the user\n",
    "weight = float(input(\"Enter your weight in kilograms: \"))\n",
    "height = float(input(\"Enter your height in meters: \"))\n",
    "\n",
    "# Calculate BMI\n",
    "bmi = weight / (height * height)\n",
    "\n",
    "# Categorize BMI using elif statements\n",
    "if bmi < 18.5:\n",
    "    category = \"Underweight\"\n",
    "elif 18.5 <= bmi < 24.9:\n",
    "    category = \"Normal\"\n",
    "elif 24.9 <= bmi < 29.9:\n",
    "    category = \"Overweight\"\n",
    "else:\n",
    "    category = \"Obese\"\n",
    "\n",
    "# Display the result\n",
    "print(f\"Your BMI category is: {category}\")\n"
   ]
  },
  {
   "cell_type": "code",
   "execution_count": null,
   "id": "a6d4e7eb-260d-406a-8053-98f21c595bcb",
   "metadata": {},
   "outputs": [],
   "source": [
    "24. Create a program that determines whether a given number is positive, negative, or zero using elif\n",
    "statements."
   ]
  },
  {
   "cell_type": "code",
   "execution_count": null,
   "id": "f63cb4c1-253c-4beb-95e1-ad73871af22a",
   "metadata": {},
   "outputs": [],
   "source": [
    "number = int(input(\"enter the number\"))\n",
    "if number > 0:\n",
    "    print(\"positive\")\n",
    "elif number == 0:\n",
    "    print(\"zero\")\n",
    "else:\n",
    "    print(\"negative\")\n",
    "          "
   ]
  },
  {
   "cell_type": "code",
   "execution_count": null,
   "id": "8aa47ecb-a518-4a96-8d91-48af73fbbbf5",
   "metadata": {},
   "outputs": [],
   "source": [
    "#25. Write a Python script to determine the type of a character (uppercase, lowercase, or special) using elif\n",
    "#statements."
   ]
  },
  {
   "cell_type": "code",
   "execution_count": null,
   "id": "49cafef1-5516-40e5-b1ff-fb601b14f5fe",
   "metadata": {},
   "outputs": [],
   "source": [
    "# Input a character from the user\n",
    "char = input(\"Enter a character: \")\n",
    "\n",
    "# Check the type of character using elif statements\n",
    "if char.isalpha():\n",
    "    if char.isupper():\n",
    "        char_type = \"Uppercase\"\n",
    "    elif char.islower():\n",
    "        char_type = \"Lowercase\"\n",
    "else:\n",
    "    char_type = \"Special character\"\n",
    "\n",
    "# Display the result\n",
    "print(f\"The character '{char}' is a {char_type} character.\")\n"
   ]
  },
  {
   "cell_type": "code",
   "execution_count": null,
   "id": "f03e6e61-ef5a-4336-b62a-72455a7bbe82",
   "metadata": {},
   "outputs": [],
   "source": [
    "26. Implement a program to calculate the discounted price based on different purchase amounts using elif\n",
    "statements"
   ]
  },
  {
   "cell_type": "code",
   "execution_count": null,
   "id": "379f0802-9ad6-4cfc-8c73-f1e680844297",
   "metadata": {},
   "outputs": [],
   "source": [
    "purchased_amount = int(input(\"purchased amount\"))\n",
    "discount_purchased = 0\n",
    "if discount_purchased>=1000 or discount_purchased<=1500:\n",
    "    discount_purchased = 10\n",
    "elif discount_purchased>1500 or discount_purchased<= 2000:\n",
    "    discount_purchased = 20\n",
    "\n",
    "discount  =(purchased_amount * discount_purchased)/100\n",
    "\n",
    "purchased_amount = purchased_amount - discount\n",
    "\n",
    "print(\"discount prize id\",purchased_amount)"
   ]
  },
  {
   "cell_type": "code",
   "execution_count": null,
   "id": "b10774ed-6ce7-4628-bf0d-e33fd72affd2",
   "metadata": {},
   "outputs": [],
   "source": [
    "27. Develop a program to calculate the electricity bill based on different consumption slabs using elif\n",
    "statements."
   ]
  },
  {
   "cell_type": "code",
   "execution_count": null,
   "id": "b1dc6a5d-6207-49ba-870a-69ecf1af60a1",
   "metadata": {},
   "outputs": [],
   "source": [
    "# Define electricity consumption slabs and corresponding rates\n",
    "slab1_limit = 100  # kWh\n",
    "slab2_limit = 200  # kWh\n",
    "rate_slab1 = 0.50  # Rate for the first slab\n",
    "rate_slab2 = 0.75  # Rate for the second slab\n",
    "rate_slab3 = 1.00  # Rate for the third slab\n",
    "\n",
    "# Function to calculate the electricity bill\n",
    "def calculate_electricity_bill(consumption):\n",
    "    if consumption <= 0:\n",
    "        return \"Invalid consumption. Please enter a valid value.\"\n",
    "    elif consumption <= slab1_limit:\n",
    "        bill = consumption * rate_slab1\n",
    "    elif consumption <= slab2_limit:\n",
    "        bill = (slab1_limit * rate_slab1) + ((consumption - slab1_limit) * rate_slab2)\n",
    "    else:\n",
    "        bill = (slab1_limit * rate_slab1) + ((slab2_limit - slab1_limit) * rate_slab2) + ((consumption - slab2_limit) * rate_slab3)\n",
    "    return bill\n",
    "\n",
    "# Input electricity consumption from the user\n",
    "try:\n",
    "    consumption = float(input(\"Enter your electricity consumption (in kWh): \"))\n",
    "    \n",
    "    # Calculate and display the electricity bill\n",
    "    bill_amount = calculate_electricity_bill(consumption)\n",
    "    if isinstance(bill_amount, str):\n",
    "        print(bill_amount)\n",
    "    else:\n",
    "        print(f\"Your electricity bill is: ${bill_amount:.2f}\")\n",
    "except ValueError:\n",
    "    print(\"Invalid input. Please enter valid consumption as a number.\")\n"
   ]
  },
  {
   "cell_type": "code",
   "execution_count": null,
   "id": "05cf42b0-1e08-43a2-ae5b-763df66f34b7",
   "metadata": {},
   "outputs": [],
   "source": [
    "28. Create a program to determine the type of quadrilateral based on its angles and sides using elif\n",
    "statements."
   ]
  },
  {
   "cell_type": "code",
   "execution_count": null,
   "id": "6b9102af-4905-43b5-b3ed-01e82667da79",
   "metadata": {},
   "outputs": [],
   "source": [
    "side1 = float(input(\"enter side 1\"))\n",
    "side2 = float(input(\"enter side 2\"))\n",
    "side3 = float(input(\"enter side 3\"))\n",
    "side4 = float(input(\"enter side 4\"))\n",
    "angle1 = float(input(\"enter the angle1\"))\n",
    "angle2 = float(input(\"enter the angle2\"))\n",
    "angle3 = float(input(\"enter the angle3\"))\n"
   ]
  },
  {
   "cell_type": "code",
   "execution_count": null,
   "id": "c28ad82e-0e19-4859-aa77-df42024c06a1",
   "metadata": {},
   "outputs": [],
   "source": [
    "29. Write a Python script to determine the season based on a user-provided month using elif statements."
   ]
  },
  {
   "cell_type": "code",
   "execution_count": null,
   "id": "2aca8453-818b-4f9f-9e00-1b3be0e48015",
   "metadata": {},
   "outputs": [],
   "source": [
    "month = input(\"enter the month\")\n",
    "if (month == \"decemenber\" or month == \"january\"):\n",
    "    print(\"winter season\")\n",
    "elif(month == \"feburary\" or month == \"March\"):\n",
    "    print(\"spring\")\n",
    "elif(month == \"april\" or month == \"june\"):\n",
    "    print(\"summer\")\n",
    "elif (month == \"july\" or month == \"september\"):\n",
    "    print(\"moonson\")\n",
    "elif(month == \"october\" or month == \"november\"):\n",
    "    print(\"autumn\")\n",
    "    "
   ]
  },
  {
   "cell_type": "code",
   "execution_count": null,
   "id": "9176c183-6380-4938-a536-ab6dadc9a255",
   "metadata": {},
   "outputs": [],
   "source": [
    "30. Implement a program to determine the type of a year (leap or common) and month (30 or 31 days) using\n",
    "elif statements."
   ]
  },
  {
   "cell_type": "code",
   "execution_count": null,
   "id": "12e7af8a-5a82-479b-b768-d1f9f610734e",
   "metadata": {},
   "outputs": [],
   "source": [
    "# Input year and month from the user\n",
    "try:\n",
    "    year = int(input(\"Enter a year: \"))\n",
    "    month = int(input(\"Enter a month (1-12): \"))\n",
    "\n",
    "    # Check if it's a leap year\n",
    "    is_leap_year = False\n",
    "    if (year % 4 == 0 and year % 100 != 0) or (year % 400 == 0):\n",
    "        is_leap_year = True\n",
    "\n",
    "    # Determine the number of days in the month\n",
    "    if month < 1 or month > 12:\n",
    "        print(\"Invalid month input. Please enter a month between 1 and 12.\")\n",
    "    else:\n",
    "        if month in [1, 3, 5, 7, 8, 10, 12]:\n",
    "            days_in_month = 31\n",
    "        elif month in [4, 6, 9, 11]:\n",
    "            days_in_month = 30\n",
    "        else:\n",
    "            if is_leap_year:\n",
    "                days_in_month = 29\n",
    "            else:\n",
    "                days_in_month = 28\n",
    "\n",
    "        # Output the results\n",
    "        if is_leap_year:\n",
    "            print(f\"{year} is a leap year.\")\n",
    "        else:\n",
    "            print(f\"{year} is a common year.\")\n",
    "        print(f\"Month {month} has {days_in_month} days.\")\n",
    "except ValueError:\n",
    "    print(\"Invalid input. Please enter valid year and month as integers.\")\n"
   ]
  },
  {
   "cell_type": "code",
   "execution_count": null,
   "id": "d25afddf-dc4b-432e-a653-b7fac431f626",
   "metadata": {},
   "outputs": [],
   "source": [
    "    \n",
    "    \n",
    "    \n",
    "    Basic Level:\n",
    "    \n",
    "    \n",
    "    "
   ]
  },
  {
   "cell_type": "code",
   "execution_count": null,
   "id": "e0e2f855-78b6-47b7-abab-54544ed538d0",
   "metadata": {},
   "outputs": [],
   "source": [
    "1. Write a Python program that checks if a given number is positive, negative, or zero."
   ]
  },
  {
   "cell_type": "code",
   "execution_count": null,
   "id": "7da518f4-15d9-401c-be02-1190f14d9f9b",
   "metadata": {},
   "outputs": [],
   "source": [
    "num = int(input(\"enter the number\"))\n",
    "if num<0:\n",
    "    print(\"negative\")\n",
    "elif num>0:\n",
    "    print(\"positive\")\n",
    "else :\n",
    "    print(\"zero\")\n"
   ]
  },
  {
   "cell_type": "code",
   "execution_count": null,
   "id": "cbec4b31-3163-4c2b-9427-194d6814ca70",
   "metadata": {},
   "outputs": [],
   "source": [
    "2. Create a program to determine if a person is eligible to vote based on their age"
   ]
  },
  {
   "cell_type": "code",
   "execution_count": null,
   "id": "7e0459de-58b3-42e9-965c-b8fed1ad9552",
   "metadata": {},
   "outputs": [],
   "source": [
    "age = int(input(\"enter the number\"))\n",
    "if(age>=18):\n",
    "    print(\"you are eligible to vote\")\n",
    "else:\n",
    "    print(\"you are not eligible to vote\")"
   ]
  },
  {
   "cell_type": "code",
   "execution_count": null,
   "id": "dcb46566-d831-40bc-8196-e2b4af7460ef",
   "metadata": {},
   "outputs": [],
   "source": [
    "3. Write a program to find the maximum of two given numbers using conditional statements."
   ]
  },
  {
   "cell_type": "code",
   "execution_count": null,
   "id": "a6884074-d979-425b-8e9b-d130206054e2",
   "metadata": {},
   "outputs": [],
   "source": [
    "n = int(input(\"enter the first number\"))\n",
    "n1 = int(input(\"enter the second number\"))\n",
    "if(n<n1):\n",
    "    print(\"n1 is largest:\")\n",
    "else:\n",
    "    print(\"n is a largest:\")"
   ]
  },
  {
   "cell_type": "code",
   "execution_count": null,
   "id": "3f915922-9e84-4988-aa08-11acbb71d648",
   "metadata": {},
   "outputs": [],
   "source": [
    "#4. Develop a program that calculates the grade of a student based on their exam score."
   ]
  },
  {
   "cell_type": "code",
   "execution_count": null,
   "id": "1fb75cd1-db76-4796-a5cc-765306d958dc",
   "metadata": {},
   "outputs": [],
   "source": [
    "marks = int(input(\"Enter the marks: \"))\n",
    "\n",
    "if marks > 0:\n",
    "    if marks >= 75:\n",
    "        print(\"A+\")\n",
    "    elif marks < 75 and marks >= 65:\n",
    "        print(\"A\")\n",
    "    elif marks < 65 and marks >= 55:\n",
    "        print(\"B\")\n",
    "    elif marks < 55 and marks >= 49:\n",
    "        print(\"C\")\n",
    "    elif marks < 49 and marks >= 33:\n",
    "        print(\"D\")\n",
    "    elif marks < 33 and marks >= 0:\n",
    "        print(\"E\")\n",
    "    else:\n",
    "        print(\"F\")\n",
    "else:\n",
    "    print(\"Invalid input. Marks must be greater than 0.\")\n"
   ]
  },
  {
   "cell_type": "code",
   "execution_count": null,
   "id": "296a5e98-6104-4d38-92d8-ea52c3b596f5",
   "metadata": {},
   "outputs": [],
   "source": [
    "#5. Create a program that checks if a year is a leap year or not"
   ]
  },
  {
   "cell_type": "code",
   "execution_count": null,
   "id": "e2bde75b-5acf-4c4b-9994-0637157a9f3b",
   "metadata": {},
   "outputs": [],
   "source": [
    "year = int(input(\"enter the year\"))\n",
    "if(year%4 == 0 and year%100 != 0 or year%400 == 0):\n",
    "    print(\"this is a leap year\")\n",
    "else:\n",
    "    print(\"this is not a leap year\")"
   ]
  },
  {
   "cell_type": "code",
   "execution_count": null,
   "id": "a88cc720-0a1b-4b85-bb30-a8d60d844de8",
   "metadata": {},
   "outputs": [],
   "source": [
    "#6. Write a program to classify a triangle based on its sides' lengths."
   ]
  },
  {
   "cell_type": "code",
   "execution_count": null,
   "id": "9a838cc0-073b-40b2-9b31-bf692955f5bd",
   "metadata": {},
   "outputs": [],
   "source": [
    "side1 = int(input(\"enter the side1\"))\n",
    "side2 = int(input(\"enter the side2\"))\n",
    "side3 = int(input(\"enter the side3\"))\n",
    "if side1 + side2 >side3 and side3 + side2 > side1 and side1+side3>side2:\n",
    "    if side1 == side2 or side1 == side3 or side2 == side3:\n",
    "        print(\"isoscles\")\n",
    "    elif(side1 == side2 == side3):\n",
    "            print(\"equilateral\")\n",
    "    else:\n",
    "        print(\"salane\")"
   ]
  },
  {
   "cell_type": "code",
   "execution_count": null,
   "id": "536ffedb-9c09-44dc-8129-91264e417a2f",
   "metadata": {},
   "outputs": [],
   "source": [
    "7. Build a program that determines the largest of three given numbers."
   ]
  },
  {
   "cell_type": "code",
   "execution_count": null,
   "id": "19d5b2c2-9c34-4493-b4aa-69d4629964d2",
   "metadata": {},
   "outputs": [],
   "source": [
    "n = int(input(\"enter the number\"))\n",
    "n1 = int(input(\"enter the number\"))\n",
    "n2 = int(input(\"enter the number\"))\n",
    "largest = 0\n",
    "if(n>n1 and n>n2):\n",
    "    largest = n\n",
    "elif(n1>n and n1>n2):\n",
    "    largest = n1\n",
    "else:\n",
    "    largest = n2\n",
    "print(largest)"
   ]
  },
  {
   "cell_type": "code",
   "execution_count": null,
   "id": "b757e75f-c4fa-420b-a8cb-a8ca71bb8b9c",
   "metadata": {},
   "outputs": [],
   "source": [
    "8. Develop a program that checks whether a character is a vowel or a consonant"
   ]
  },
  {
   "cell_type": "code",
   "execution_count": null,
   "id": "7faf85a8-8aea-4e21-a8a8-608d30e6fbde",
   "metadata": {},
   "outputs": [],
   "source": [
    "result = \"aeiouAEIOU\"\n",
    "char = input()\n",
    "if(char in result):\n",
    "    print(\"vowels\")\n",
    "else:\n",
    "    print(\"consant\")"
   ]
  },
  {
   "cell_type": "code",
   "execution_count": null,
   "id": "f10ff97b-2365-4293-b03f-44130faa0cf7",
   "metadata": {},
   "outputs": [],
   "source": [
    "9. Create a program to calculate the total cost of a shopping cart based on discounts"
   ]
  },
  {
   "cell_type": "code",
   "execution_count": null,
   "id": "ad3fabee-6a99-4f47-8e86-d3d182d93784",
   "metadata": {},
   "outputs": [],
   "source": [
    "purchased_amount = int(input(\"purchased amount\"))\n",
    "discount_purchased = 0\n",
    "if discount_purchased>=1000 or discount_purchased<=1500:\n",
    "    discount_purchased = 10\n",
    "elif discount_purchased>1500 or discount_purchased<= 2000:\n",
    "    discount_purchased = 20\n",
    "\n",
    "discount  =(purchased_amount * discount_purchased)/100\n",
    "\n",
    "purchased_amount = purchased_amount - discount\n",
    "\n",
    "print(\"discount prize id\",purchased_amount)"
   ]
  },
  {
   "cell_type": "code",
   "execution_count": null,
   "id": "d0e181b3-6476-4712-bac1-1b0480a1c03e",
   "metadata": {},
   "outputs": [],
   "source": [
    "10. Write a program that checks if a given number is even or odd.num"
   ]
  },
  {
   "cell_type": "code",
   "execution_count": null,
   "id": "a195aa49-74fc-442b-b0b7-bba199d85682",
   "metadata": {},
   "outputs": [],
   "source": [
    "num = int(input(\"enter the number\"))\n",
    "if num%2 == 0:\n",
    "    print(\"even\")\n",
    "else:\n",
    "    print(\"odd\")"
   ]
  },
  {
   "cell_type": "code",
   "execution_count": null,
   "id": "2ed5e1e1-8b84-4bda-a022-209c522c29f4",
   "metadata": {},
   "outputs": [],
   "source": [
    "\n",
    "\n",
    "    Intermediate Level:\n",
    "    \n",
    "    \n",
    "    "
   ]
  },
  {
   "cell_type": "code",
   "execution_count": null,
   "id": "a4a53132-3f30-4c2b-992c-e02a0fee403b",
   "metadata": {},
   "outputs": [],
   "source": [
    "#11. Write a program that calculates the roots of a quadratic equation "
   ]
  },
  {
   "cell_type": "code",
   "execution_count": null,
   "id": "88cd82ab-06ba-4d69-853e-2290016f7639",
   "metadata": {},
   "outputs": [],
   "source": [
    "import math\n",
    "def find_root(a,b,c):\n",
    "    if a == 0:\n",
    "        print(\"invalid\")\n",
    "    D = b*b - 4*a*c\n",
    "    sqrt = math.sqrt(D)\n",
    "    if D>0:\n",
    "        print(\"roots is real\")\n",
    "        print((-b + sqrt)/(2 * a))\n",
    "        print((-b - sqrt)/(2 * a))\n",
    "    elif D == 0:\n",
    "        print(\"Roots are real and same\")\n",
    "        print(-b / (2*a))\n",
    "    else:  # d<0\n",
    "        print(\"Roots are complex\")\n",
    "        print(- b / (2*a), \" + i\", sqrt / (2 * a))\n",
    "        print(- b / (2*a), \" - i\", sqrt / (2 * a))\n",
    "find_root(1,-7,12)\n"
   ]
  },
  {
   "cell_type": "code",
   "execution_count": null,
   "id": "66ea080d-9a08-4952-a0ca-0f9ad2c04a09",
   "metadata": {},
   "outputs": [],
   "source": [
    "12. Create a program that determines the day of the week based on the day number (1-7)."
   ]
  },
  {
   "cell_type": "code",
   "execution_count": null,
   "id": "9eb7639a-f9e1-4642-8c7e-0bdd51a5d723",
   "metadata": {},
   "outputs": [],
   "source": [
    "n = int(input(\"enter the number\"))\n",
    "if n>0:\n",
    "    if(n == 1):\n",
    "        print(\"monday\")\n",
    "    elif(n == 2):\n",
    "        print(\"tuesday\")\n",
    "    elif(n==3):\n",
    "        print(\"wednesday\")\n",
    "    elif(n==4):\n",
    "        print(\"thrusday\")\n",
    "    elif(n==5):\n",
    "        print(\"friday\")\n",
    "    elif(n==6):\n",
    "        print(\"saturday\")\n",
    "    else:\n",
    "        print(\"sunday\")\n"
   ]
  },
  {
   "cell_type": "code",
   "execution_count": null,
   "id": "da670118-1918-427b-986d-c47deeee697d",
   "metadata": {},
   "outputs": [],
   "source": [
    "13. Develop a program that calculates the factorial of a given number using recursion."
   ]
  },
  {
   "cell_type": "code",
   "execution_count": null,
   "id": "f2d02e65-2a68-4584-8652-99d6e299013c",
   "metadata": {},
   "outputs": [],
   "source": [
    "def fact(n):\n",
    "    if n == 0:\n",
    "        return 1\n",
    "    return n*fact(n-1)\n",
    "fact(5)\n",
    "\n",
    "    "
   ]
  },
  {
   "cell_type": "code",
   "execution_count": null,
   "id": "04a5ea5a-e9fe-4c44-984c-13418c16ff30",
   "metadata": {},
   "outputs": [],
   "source": [
    "14. Write a program to find the largest among three numbers without using the `max()` function."
   ]
  },
  {
   "cell_type": "code",
   "execution_count": null,
   "id": "0f626109-b15c-43d2-8f7f-8d30679a495b",
   "metadata": {},
   "outputs": [],
   "source": [
    "n = int(input(\"enter the number\"))\n",
    "n1 = int(input(\"enter the number\"))\n",
    "n2 = int(input(\"enter the number\"))\n",
    "largest = 0\n",
    "if(n>n1 and n>n2):\n",
    "    largest = n\n",
    "elif(n1>n and n1>n2):\n",
    "    largest = n1\n",
    "else:\n",
    "    largest = n2\n",
    "print(largest)"
   ]
  },
  {
   "cell_type": "code",
   "execution_count": null,
   "id": "db87bc2c-bc5b-4d4f-a412-e590471ff4fe",
   "metadata": {},
   "outputs": [],
   "source": [
    "#15. Create a program that simulates a basic ATM transaction menu."
   ]
  },
  {
   "cell_type": "code",
   "execution_count": null,
   "id": "f93ccbc8-bcf1-48e6-953d-7f250686a4da",
   "metadata": {},
   "outputs": [],
   "source": [
    "# transaction= > credit,deposit,display\n",
    "balance = 1000\n",
    "def display_balance():\n",
    "    print(f\"your account balance:${balance}\")\n",
    "def deposit():\n",
    "    global balance\n",
    "    amount = float(input(\"enter the amount\"))\n",
    "    balance += amount\n",
    "    display_balance()\n",
    "def credit():\n",
    "    global balance\n",
    "    amount = float(input(\"enter the amount\"))\n",
    "    balance -= amount\n",
    "    display_balance()\n"
   ]
  },
  {
   "cell_type": "code",
   "execution_count": null,
   "id": "c09f4d2d-2937-46dc-b26a-4e532b7d0e19",
   "metadata": {},
   "outputs": [],
   "source": [
    "#16. Build a program that checks if a given string is a palindrome or not."
   ]
  },
  {
   "cell_type": "code",
   "execution_count": null,
   "id": "7e429005-727c-4706-8c45-c1ea678d6d4e",
   "metadata": {},
   "outputs": [],
   "source": [
    "def reversed(str):\n",
    "    i = 0\n",
    "    j = len(str)-1\n",
    "    while(i<j):\n",
    "        str[i],str[j] = str[j],str[i]\n",
    "str = input(\"enter the string\")\n",
    "\n",
    "if str == reversed:\n",
    "    print(\"palindrome\")\n",
    "else:\n",
    "    print(\"not pallindrome\")\n",
    "\n",
    "    \n",
    "\n"
   ]
  },
  {
   "cell_type": "code",
   "execution_count": null,
   "id": "035461c8-0de2-4ad5-92e3-fcb513ff3446",
   "metadata": {},
   "outputs": [],
   "source": [
    "#17. Write a program that calculates the average of a list of numbers, excluding the smallest and largest values."
   ]
  },
  {
   "cell_type": "code",
   "execution_count": null,
   "id": "166dd863-2fd9-49d4-bc44-67039fcfdbed",
   "metadata": {},
   "outputs": [],
   "source": [
    "# Function to calculate the average excluding the smallest and largest values\n",
    "def calculate_average_excluding_extremes(numbers):\n",
    "    if len(numbers) < 3:\n",
    "        return \"The list must contain at least three numbers.\"\n",
    "\n",
    "    # Remove the smallest and largest values\n",
    "    numbers.remove(min(numbers))\n",
    "    numbers.remove(max(numbers))\n",
    "\n",
    "    # Calculate the average of the remaining values\n",
    "    total = sum(numbers)\n",
    "    average = total / len(numbers)\n",
    "    return average\n",
    "\n",
    "# Input a list of numbers from the user\n",
    "try:\n",
    "    num_list = input(\"Enter a list of numbers separated by spaces: \").split()\n",
    "    num_list = [float(num) for num in num_list]\n",
    "\n",
    "    # Calculate and display the average\n",
    "    result = calculate_average_excluding_extremes(num_list)\n",
    "    if isinstance(result, str):\n",
    "        print(result)\n",
    "    else:\n",
    "        print(\"Average (excluding extremes):\", result)\n",
    "except ValueError:\n",
    "    print(\"Invalid input. Please enter valid numbers separated by spaces.\")\n"
   ]
  },
  {
   "cell_type": "code",
   "execution_count": null,
   "id": "5114de08-3f8f-4a27-8552-c7ada41e4dfd",
   "metadata": {},
   "outputs": [],
   "source": [
    "18. Develop a program that converts a given temperature from Celsius to Fahrenheit"
   ]
  },
  {
   "cell_type": "code",
   "execution_count": null,
   "id": "43c0730b-cb92-48d0-b77c-968808d97c6f",
   "metadata": {},
   "outputs": [],
   "source": [
    "celsius = int(input(\"enter the celsius\"))\n",
    "fah = (9/5) *celsius + 32\n",
    "print(fah)"
   ]
  },
  {
   "cell_type": "code",
   "execution_count": null,
   "id": "3ce6656d-577b-417a-a3fb-1a0f50074c59",
   "metadata": {},
   "outputs": [],
   "source": [
    "19. Create a program that simulates a basic calculator for addition, subtraction, multiplication, and division."
   ]
  },
  {
   "cell_type": "code",
   "execution_count": null,
   "id": "fd89672b-5146-4909-8635-2a70d4819fef",
   "metadata": {},
   "outputs": [],
   "source": [
    "# Function to perform addition\n",
    "def add(x, y):\n",
    "    return x + y\n",
    "\n",
    "# Function to perform subtraction\n",
    "def subtract(x, y):\n",
    "    return x - y\n",
    "\n",
    "# Function to perform multiplication\n",
    "def multiply(x, y):\n",
    "    return x * y\n",
    "\n",
    "# Function to perform division\n",
    "def divide(x, y):\n",
    "    if y == 0:\n",
    "        return \"Cannot divide by zero\"\n",
    "    return x / y\n",
    "\n",
    "# Main calculator loop\n",
    "while True:\n",
    "    print(\"Options:\")\n",
    "    print(\"Enter 'add' for addition\")\n",
    "    print(\"Enter 'subtract' for subtraction\")\n",
    "    print(\"Enter 'multiply' for multiplication\")\n",
    "    print(\"Enter 'divide' for division\")\n",
    "    print(\"Enter 'quit' to end the program\")\n",
    "\n",
    "    user_input = input(\": \")\n",
    "\n",
    "    if user_input == \"quit\":\n",
    "        break\n",
    "    elif user_input in [\"add\", \"subtract\", \"multiply\", \"divide\"]:\n",
    "        num1 = float(input(\"Enter first number: \"))\n",
    "        num2 = float(input(\"Enter second number: \"))\n",
    "\n",
    "        if user_input == \"add\":\n",
    "            print(\"Result:\", add(num1, num2))\n",
    "        elif user_input == \"subtract\":\n",
    "            print(\"Result:\", subtract(num1, num2))\n",
    "        elif user_input == \"multiply\":\n",
    "            print(\"Result:\", multiply(num1, num2))\n",
    "        elif user_input == \"divide\":\n",
    "            print(\"Result:\", divide(num1, num2))\n",
    "    else:\n",
    "        print(\"Invalid input\")\n"
   ]
  },
  {
   "cell_type": "code",
   "execution_count": null,
   "id": "ea0fe14d-ef04-439c-b6bb-af758e1c0926",
   "metadata": {},
   "outputs": [],
   "source": [
    "20. Write a program that determines the roots of a cubic equation using the Cardano formula."
   ]
  },
  {
   "cell_type": "code",
   "execution_count": null,
   "id": "89beb057-2767-4fc5-a338-7916913f98df",
   "metadata": {},
   "outputs": [],
   "source": [
    "import math\n",
    "\n",
    "# Function to find the cubic roots using Cardano's formula\n",
    "def find_cubic_roots(a, b, c, d):\n",
    "    # Calculate some intermediate values\n",
    "    p = c / a - (b ** 2) / (3 * a ** 2)\n",
    "    q = (2 * (b ** 3)) / (27 * a ** 3) - (b * c) / (3 * a ** 2) + d / a\n",
    "    delta = (q ** 2) / 4 + (p ** 3) / 27\n",
    "\n",
    "    if delta > 0:\n",
    "        # One real root and two complex roots\n",
    "        u = math.sqrt(-q / 2 + math.sqrt(delta))\n",
    "        v = math.sqrt(-q / 2 - math.sqrt(delta))\n",
    "        real_root = u - v - b / (3 * a)\n",
    "        return [real_root]\n",
    "    elif delta == 0:\n",
    "        # Three real roots, at least two of them are equal\n",
    "        u = (q / 2) ** (1 / 3)\n",
    "        v = -(q / 2) ** (1 / 3)\n",
    "        real_root1 = 2 * u - b / (3 * a)\n",
    "        real_root2 = -u - b / (3 * a)\n",
    "        return [real_root1, real_root2]\n",
    "    else:\n",
    "        # Three real roots\n",
    "        phi = math.acos(-q / 2 * math.sqrt(27 / (p ** 3))) / 3\n",
    "        real_root1 = 2 * math.sqrt(-p / 3) * math.cos(phi) - b / (3 * a)\n",
    "        real_root2 = 2 * math.sqrt(-p / 3) * math.cos(phi + 2 * math.pi / 3) - b / (3 * a)\n",
    "        real_root3 = 2 * math.sqrt(-p / 3) * math.cos(phi - 2 * math.pi / 3) - b / (3 * a)\n",
    "        return [real_root1, real_root2, real_root3]\n",
    "\n",
    "# Input coefficients from the user\n",
    "try:\n",
    "    a = float(input(\"Enter the coefficient a: \"))\n",
    "    b = float(input(\"Enter the coefficient b: \"))\n",
    "    c = float(input(\"Enter the coefficient c: \"))\n",
    "    d = float(input(\"Enter the coefficient d: \"))\n",
    "    \n",
    "    # Find and display the roots\n",
    "    roots = find_cubic_roots(a, b, c, d)\n",
    "    print(\"Roots of the cubic equation:\")\n",
    "    for root in roots:\n",
    "        print(f\"Root: {root:.6f}\")\n",
    "except ValueError:\n",
    "    print(\"Invalid input. Please enter valid coefficients as numbers.\")\n"
   ]
  },
  {
   "cell_type": "code",
   "execution_count": null,
   "id": "0b6d6fd2-e4df-46bf-8e52-0f71a17fba76",
   "metadata": {},
   "outputs": [],
   "source": [
    "       \n",
    "       \n",
    "         Advanced Level:\n",
    "    \n",
    "    \n",
    "    \n",
    "    \n",
    "    "
   ]
  },
  {
   "cell_type": "code",
   "execution_count": null,
   "id": "81c0f1f5-2e3f-4dfe-8d41-e2adb7f929ad",
   "metadata": {},
   "outputs": [],
   "source": [
    "#21. Create a program that calculates the income tax based on the user's income and tax brackets."
   ]
  },
  {
   "cell_type": "code",
   "execution_count": null,
   "id": "53a2ad6a-98b7-42ee-bbe6-8e6c38a86558",
   "metadata": {},
   "outputs": [],
   "source": [
    "\n",
    "# Define tax brackets and corresponding tax rates\n",
    "tax_brackets = [(0, 10000, 0.10), (10001, 40000, 0.20), (40001, 80000, 0.30), (80001, float('inf'), 0.40)]\n",
    "\n",
    "# Function to calculate income tax\n",
    "def calculate_income_tax(income):\n",
    "    total_tax = 0\n",
    "    remaining_income = income\n",
    "\n",
    "    for bracket in tax_brackets:\n",
    "        min_income, max_income, tax_rate = bracket\n",
    "        if remaining_income <= 0:\n",
    "            break\n",
    "        if remaining_income <= max_income:\n",
    "            taxable_income = remaining_income - min_income\n",
    "        else:\n",
    "            taxable_income = max_income - min_income\n",
    "        tax = taxable_income * tax_rate\n",
    "        total_tax += tax\n",
    "        remaining_income -= taxable_income\n",
    "\n",
    "    return total_tax\n",
    "\n",
    "# Input income from the user\n",
    "try:\n",
    "    income = float(input(\"Enter your annual income: \"))\n",
    "    if income < 0:\n",
    "        print(\"Income cannot be negative.\")\n",
    "    else:\n",
    "        # Calculate and display income tax\n",
    "        income_tax = calculate_income_tax(income)\n",
    "        print(f\"Your income tax is: ${income_tax:.2f}\")\n",
    "except ValueError:\n",
    "    print(\"Invalid input. Please enter a valid income as a number.\")\n"
   ]
  },
  {
   "cell_type": "code",
   "execution_count": null,
   "id": "acb09ce1-0562-4811-af7c-36ee451db424",
   "metadata": {},
   "outputs": [],
   "source": [
    "#22. Write a program that simulates a rock-paper-scissors game against the computer."
   ]
  },
  {
   "cell_type": "code",
   "execution_count": null,
   "id": "b285cffd-97b2-48e7-978f-8bc297ce9d5c",
   "metadata": {},
   "outputs": [],
   "source": [
    "from random import random   \n",
    "var = random()\n",
    "c_num = int(var*10) % 3\n",
    "print('Enter your choice \\n For Paper: 1 \\n For scissors:2 \\n For rock: 3')\n",
    "c_usr = int(input()) - 1\n",
    " # (seizer paper) (rock sizer) #(paoer ROCK)\n",
    " #  (2  1)  (3 2)  (1 3)\n",
    "if (c_num == 0 and c_usr == 2 ) or (c_num == 1 and c_usr == 0) or (c_num ==2 and c_usr == 1 ):\n",
    "    print(\"computer win\")\n",
    " # ( 1 2 ) (2 3) (3 1)\n",
    "elif(c_num == 2 and c_usr == 0)or (c_num == 0 and c_usr == 1) or (c_num ==1 and c_usr == 2 ) :\n",
    "    print(\"user win\")\n",
    "else:\n",
    "    print(\"Draw\")\n",
    "print(c_num,c_usr )\n",
    "# if c_num == 1 and c_usr == 3:\n",
    "#     print(\"computer win\")\n",
    "# elif c_num ==3 and c_usr == 1:\n",
    "#     print(\"user win\")\n",
    "\n",
    "# elif c_num == 2 and c_usr == 1:\n",
    "#     print(\"computer win\")\n",
    "# elif c_num == 1 and c_user == 2:\n",
    "#     print(\"user win\")\n",
    "\n",
    "\n",
    "    "
   ]
  },
  {
   "cell_type": "code",
   "execution_count": null,
   "id": "1345e371-3d32-4a3f-b801-0e1939f8febd",
   "metadata": {},
   "outputs": [],
   "source": [
    "23. Develop a program that generates a random password based on user preferences (length, complexity)."
   ]
  },
  {
   "cell_type": "code",
   "execution_count": null,
   "id": "4d772cad-d739-4dd7-a9f4-1c7fe95788e7",
   "metadata": {},
   "outputs": [],
   "source": [
    "import random\n",
    "import string\n",
    "length = int(input(\"enter the length of the password\"))\n",
    "print(\"chose number on the 1.choose digit 2.letters 3.special character.4.exit\")\n",
    "password = \" \"\n",
    "while(True):\n",
    "    choose = int(input(\"enter the pickup number\"))\n",
    "    if(choose == 1):\n",
    "        password += string.ascii_letters\n",
    "    elif(choose == 2):\n",
    "        password += string.digits\n",
    "    elif(choose == 3):\n",
    "        password += string.punctuation\n",
    "    elif(choose == 4):\n",
    "        break\n",
    "    else:\n",
    "        print(\"invalid\")\n",
    "new = []\n",
    " \n",
    "for i in range(length):\n",
    "   \n",
    "    # Picking a random character from our\n",
    "    # character list\n",
    "    randomchar = random.choice(password)\n",
    "     \n",
    "    # appending a random character to password\n",
    "    new.append(randomchar)\n",
    " # printing password as a string\n",
    "print(\"The random password is \" + \"\".join(new))\n",
    "    \n",
    "    \n",
    "    \n",
    "\n",
    "                           \n"
   ]
  },
  {
   "cell_type": "code",
   "execution_count": null,
   "id": "27109c0c-2403-4428-858a-e10f3b7e4e6e",
   "metadata": {},
   "outputs": [],
   "source": [
    "24. Create a program that implements a simple text-based adventure game with branching scenarios."
   ]
  },
  {
   "cell_type": "code",
   "execution_count": null,
   "id": "bd6d63fc-a777-4a95-9e79-757316f3f835",
   "metadata": {},
   "outputs": [],
   "source": [
    "import time\n",
    "\n",
    "def print_slow(text):\n",
    "    for char in text:\n",
    "        print(char, end='',flush = True)\n",
    "        time.sleep(0.05)\n",
    "    print(\"\\n\")\n",
    "def main():\n",
    "    print_slow(\"Welcome to the Text Adventure Game!\")\n",
    "    print_slow(\"You are in a dark cave. You can go left or right.\")\n",
    "while True:\n",
    "        choice = input(\"Do you want to go left or right? \").lower()\n",
    "\n",
    "        if choice == \"left\":\n",
    "            print_slow(\"You entered a treasure room! You find a chest full of gold.\")\n",
    "            print_slow(\"Congratulations! You win!\")\n",
    "            break\n",
    "        elif choice == \"right\":\n",
    "            print_slow(\"You encounter a hungry bear!\")\n",
    "            print_slow(\"The bear attacks you, and you lose the game.\")\n",
    "            break\n",
    "        else:\n",
    "            print_slow(\"Invalid choice. Please enter 'left' or 'right'.\")\n",
    "\n",
    "if __name__ == \"__main__\":\n",
    "    main()\n",
    "\n",
    "        "
   ]
  },
  {
   "cell_type": "code",
   "execution_count": null,
   "id": "8dcdd74f-2a95-4fd2-b0c5-47dec29791ed",
   "metadata": {},
   "outputs": [],
   "source": [
    "25. Build a program that solves a linear equation  for x, considering different cases."
   ]
  },
  {
   "cell_type": "code",
   "execution_count": null,
   "id": "d6a2784d-deea-4cd0-8b1b-5dd836349e74",
   "metadata": {},
   "outputs": [],
   "source": [
    "def solution(a,b):\n",
    "    if a == 0:\n",
    "        if b == 0:\n",
    "            print(\"infinite solution\")\n",
    "        else:\n",
    "            print(\"no solution\")\n",
    "    else:\n",
    "        x = -b/a\n",
    "        return x\n",
    "a = int(input(\"enter the number1\"))\n",
    "b = int(input(\"enter  the number2\"))\n",
    "solu = solution(a,b)\n",
    "print(solu)"
   ]
  },
  {
   "cell_type": "code",
   "execution_count": null,
   "id": "2eb64011-1e54-47b0-bb84-0a55a2737a3d",
   "metadata": {},
   "outputs": [],
   "source": [
    "26. Write a program that simulates a basic quiz game with multiple-choice questions and scoring."
   ]
  },
  {
   "cell_type": "code",
   "execution_count": null,
   "id": "97e1e8c6-6260-4231-bc76-94fe1dfcba3b",
   "metadata": {},
   "outputs": [],
   "source": [
    "questions = [\n",
    "    {\n",
    "     \"question\":\"what is capital of india\",\n",
    "     \"option\" :[\"a.Delhi\",\"b.lucknow\",\"c.pune\",\"d.Goa\"],\n",
    "     \"answer\" : \"a\" \n",
    "    },\n",
    "    {\n",
    "    \"question\":\"find the palindrome number\",\n",
    "     \"option\" :[\"a.133\",\"b.889\",\"c.121\",\"d.9891\"],\n",
    "     \"answer\" : \"c\" \n",
    "    },\n",
    "    {\n",
    "        \n",
    "    \"question\":\"what is the national bird of india \",\n",
    "     \"option\" :[\"a.peacock\",\"b.pigeon\",\"c.owl\",\"d.eagle\"],\n",
    "     \"answer\" : \"a\" \n",
    "    }\n",
    "]\n",
    "score = 0\n",
    "def ask_question(question_data):\n",
    "    print(question_data[\"question\"])\n",
    "    for option in question_data[\"option\"]:\n",
    "        print(option)\n",
    "    player_answer = input(\"Enter the letter of your answer: \").lower()\n",
    "    return player_answer\n",
    "\n",
    "def check_answer(player_answer, correct_answer):\n",
    "    global score\n",
    "    if player_answer == correct_answer:\n",
    "        print(\"Correct!\\n\")\n",
    "        score += 1\n",
    "    else:\n",
    "        print(\"Incorrect. The correct answer is:\", correct_answer, \"\\n\")\n",
    "\n",
    "for question in questions:\n",
    "    player_answer = ask_question(question)\n",
    "    check_answer(player_answer, question[\"answer\"])\n",
    "\n",
    "# Display the final score\n",
    "print(\"Quiz completed! Your score is:\", score, \"out of\", len(questions))\n"
   ]
  },
  {
   "cell_type": "code",
   "execution_count": null,
   "id": "ae41207a-de63-40a4-9671-bfd5ed60cc53",
   "metadata": {},
   "outputs": [],
   "source": [
    "27. Develop a program that determines whether a given year is a prime number or not."
   ]
  },
  {
   "cell_type": "code",
   "execution_count": null,
   "id": "dd598054-0fb4-4e86-b1c5-7a01f15995df",
   "metadata": {},
   "outputs": [],
   "source": [
    "import math\n",
    "\n",
    "year = int(input(\"enter the year\"))\n",
    "if year<=1:\n",
    "    \n",
    "     print(\"not prime number\")\n",
    "else:\n",
    "    \n",
    "    is_prime = True\n",
    "    for i in range(2,math.isqrt(year)+1):\n",
    "        \n",
    "        if year%i == 0:\n",
    "            \n",
    "            is_prime = False\n",
    "            break\n",
    "if is_prime:\n",
    "    print(\"prime number\")\n",
    "else:\n",
    "    print(\"not prime \")"
   ]
  },
  {
   "cell_type": "code",
   "execution_count": null,
   "id": "3efb5373-fbf6-4566-9075-24fbfa101adf",
   "metadata": {},
   "outputs": [],
   "source": [
    "#28. Create a program that sorts three numbers in ascending order using conditional statements"
   ]
  },
  {
   "cell_type": "code",
   "execution_count": null,
   "id": "886f5f06-8f96-4d25-bba1-4be863499980",
   "metadata": {},
   "outputs": [],
   "source": [
    "n1 = int(input(\"enter the number\"))\n",
    "n2 = int(input(\"enter the number\"))\n",
    "n3 = int(input(\"enter the number\"))\n",
    "\n",
    "if(n1<n2 and n3>n1):\n",
    "    b = n1\n",
    "    if n2<n3:\n",
    "        mid = n2\n",
    "        l = n3\n",
    "    else:\n",
    "        mid = n3\n",
    "        l = n2\n",
    "elif n1>n2 and n2<n3:\n",
    "    b = n2\n",
    "    if n1<n3:\n",
    "        mid = n1\n",
    "        l = n3\n",
    "    else:\n",
    "        mid = n3\n",
    "        l = n1\n",
    "else:\n",
    "    b = n3\n",
    "    if n1<n2:\n",
    "        mid = n1\n",
    "        l = n2\n",
    "    else:\n",
    "        mid = n2\n",
    "        l = n1\n",
    "print(b,mid,l)"
   ]
  },
  {
   "cell_type": "code",
   "execution_count": null,
   "id": "35cce717-b790-4ab3-8d44-a4e202b12f58",
   "metadata": {},
   "outputs": [],
   "source": [
    "#29. Build a program that determines the roots of a quartic equation using numerical methods."
   ]
  },
  {
   "cell_type": "code",
   "execution_count": null,
   "id": "b1df2ca7-3120-47ff-8907-e148d3e33e9a",
   "metadata": {},
   "outputs": [],
   "source": [
    "import math\n",
    "def find_root(a,b,c):\n",
    "    if a == 0:\n",
    "        print(\"invalid\")\n",
    "    D = b*b - 4*a*c\n",
    "    sqrt = math.sqrt(D)\n",
    "    if D>0:\n",
    "        print(\"roots is real\")\n",
    "        print((-b + sqrt)/(2 * a))\n",
    "        print((-b - sqrt)/(2 * a))\n",
    "    elif D == 0:\n",
    "        print(\"Roots are real and same\")\n",
    "        print(-b / (2*a))\n",
    "    else:  # d<0\n",
    "        print(\"Roots are complex\")\n",
    "        print(- b / (2*a), \" + i\", sqrt / (2 * a))\n",
    "        print(- b / (2*a), \" - i\", sqrt / (2 * a))\n",
    "find_root(1,-7,12)\n",
    "\n",
    "    "
   ]
  },
  {
   "cell_type": "code",
   "execution_count": null,
   "id": "63bfb950-db31-4be6-a7bb-5a22c617323e",
   "metadata": {},
   "outputs": [],
   "source": [
    "30. Write a program that calculates the BMI (Body Mass Index) and provides health recommendations based\n",
    "on the user's input."
   ]
  },
  {
   "cell_type": "code",
   "execution_count": null,
   "id": "18ea0020-16c3-4358-81c6-deb034cdf77f",
   "metadata": {},
   "outputs": [],
   "source": [
    "# Input from the user\n",
    "weight = float(input(\"Enter your weight in kilograms: \"))\n",
    "height = float(input(\"Enter your height in meters: \"))\n",
    "#Below 18.5\n",
    "\n",
    "# Calculate BMI\n",
    "bmi = weight / (height * height)\n",
    "if bmi<18.5:\n",
    "    print(\"you are underweight .you should eat some healthy food and gain your body weight\")\n",
    "elif bmi>=18.5 or bmi<=24.9:\n",
    "    print(\"you are normal weight.you should avoid oily product\")\n",
    "elif bmi>=25.0 or bmi<=29.9:\n",
    "    print(\"you are pre obsesity .you are going into obsesity starting phase you should only eat health food\")\n",
    "elif bmi>=30.0 or 34.9:\n",
    "    print(\"you are obesity class I .you should do some morning walk or running \")\n",
    "elif bmi>=35.0 or 39.9:\n",
    "    print(\"your weight is obsesity class II.YOU should only eat green vegetables\")\n"
   ]
  },
  {
   "cell_type": "code",
   "execution_count": null,
   "id": "97541805-8e8a-41a0-80ab-d6e746ad0195",
   "metadata": {},
   "outputs": [],
   "source": [
    "#31. Create a program that validates a password based on complexity rules (length, characters, etc.)."
   ]
  },
  {
   "cell_type": "code",
   "execution_count": null,
   "id": "099d9a6b-2d90-45bd-b6ca-1e25760dab36",
   "metadata": {},
   "outputs": [],
   "source": [
    "import re\n",
    "def is_valid(password):\n",
    "    if not 8<=len(password)<=20:\n",
    "        return False\n",
    "    if not any(c.upper() for c in password):\n",
    "        return False\n",
    "    if not any(c.lower() for c in password):\n",
    "        return False\n",
    "    if not any(c.digit() for c in password):\n",
    "        return False\n",
    "    if not re.search(r'[!@#$%^&*()_\\-+=<>?]', password):\n",
    "        return False\n",
    "    return True\n",
    "\n",
    "password = input(\"enter by user\")\n",
    "\n",
    "if is_valid:\n",
    "    print(\"valid password\")\n",
    "else:\n",
    "    print(\"not valid\")\n",
    "    \n",
    "    \n",
    "    "
   ]
  },
  {
   "cell_type": "code",
   "execution_count": null,
   "id": "8dcdd83b-a9f8-4a99-9540-b034bfaf1ad1",
   "metadata": {},
   "outputs": [],
   "source": [
    "32. Develop a program that performs matrix addition and subtraction based on user input."
   ]
  },
  {
   "cell_type": "code",
   "execution_count": null,
   "id": "f3506ee9-0bf6-4c0b-8fc3-fce8916660f9",
   "metadata": {},
   "outputs": [],
   "source": [
    "X = [[1, 2, 3],\n",
    "     [2, 3, 4],\n",
    "     [5, 6, 7]]\n",
    "\n",
    "Y = [[1, 2, 3],\n",
    "     [2, 3, 4],\n",
    "     [5, 6, 7]]\n",
    "\n",
    "while True:\n",
    "    choose = input(\"Enter the choice: \")\n",
    "    if choose == \"add\":\n",
    "        result = [[X[i][j] + Y[i][j] for j in range(len(X[0]))] for i in range(len(X))]\n",
    "        for r in result:\n",
    "            print(r)\n",
    "            \n",
    "    elif choose == \"subtract\":\n",
    "        result = [[X[i][j] - Y[i][j] for j in range(len(X[0]))] for i in range(len(X))]\n",
    "        for r in result:\n",
    "            print(r)\n",
    "    elif choose == \"exit\":\n",
    "        break\n",
    "            \n",
    "    else:\n",
    "        print(\"Invalid choice. Please enter 'add' or 'subtract'\")\n",
    "\n",
    "        \n",
    "        \n",
    "        \n",
    "        \n",
    "    "
   ]
  },
  {
   "cell_type": "code",
   "execution_count": null,
   "id": "657a6fe2-ec66-413f-aa02-c51fd5abe4ca",
   "metadata": {},
   "outputs": [],
   "source": [
    "33. Write a program that calculates the greatest common divisor (GCD) of two numbers using the Euclidean \n",
    "algorithm"
   ]
  },
  {
   "cell_type": "code",
   "execution_count": null,
   "id": "96a95745-b43d-4a28-b3f8-8049c8072d18",
   "metadata": {},
   "outputs": [],
   "source": [
    "def Euclidean(a,b):\n",
    "    while b:\n",
    "        a,b = b,b%a\n",
    "    return a\n",
    "        \n",
    "num1 = int(input(\"enter the number\"))\n",
    "num2 = int(input(\"enter the number\"))\n",
    "result = Euclidean(num1,num2)\n",
    "print(result)"
   ]
  },
  {
   "cell_type": "code",
   "execution_count": null,
   "id": "6905e3fe-3484-42a1-bf4d-ee7b5e533c07",
   "metadata": {},
   "outputs": [],
   "source": [
    "34. Build a program that performs matrix multiplication using nested loops and conditional statements"
   ]
  },
  {
   "cell_type": "code",
   "execution_count": null,
   "id": "e2ec1847-33b6-4a14-9b83-7c290a37403e",
   "metadata": {},
   "outputs": [],
   "source": [
    "matrix1 = [[1,2,4],[4,5,6],[7,8,9]]\n",
    "matrix2 = [[1,2,4],[4,5,6],[7,8,9]]\n",
    "result = [[0,0,0],[0,0,0],[0,0,0]]\n",
    "\n",
    "for i in range(len(matrix1)):\n",
    "    for j in range(len(matrix2[0])):\n",
    "        for k in range(len(matrix2)):\n",
    "            result[i][j] += matrix1[i][k]*matrix2[k][j]\n",
    "            \n",
    "            \n",
    "for row in result:\n",
    "    print(row)\n",
    "               \n"
   ]
  },
  {
   "cell_type": "code",
   "execution_count": null,
   "id": "4769e2fe-f487-4ccf-907f-14600ed62ecd",
   "metadata": {},
   "outputs": [],
   "source": [
    "#35. Create a program that simulates a basic text-based tic-tac-toe game against the computer"
   ]
  },
  {
   "cell_type": "code",
   "execution_count": null,
   "id": "bbd25a74-143c-43da-a6e1-d180f45a2acc",
   "metadata": {},
   "outputs": [],
   "source": [
    "import random\n",
    "\n",
    "def checkWin(fgiven):\n",
    "    winPairs = [[1, 2, 3], [1, 4, 7], [1, 5, 9], [2, 5, 8], [3, 6, 9], [4, 5, 6], [7, 8, 9]]\n",
    "    for pair in winPairs:\n",
    "        if all(cell in fgiven for cell in pair):\n",
    "            return True\n",
    "    return False\n",
    "\n",
    "def print_board():\n",
    "    print(\" \" + str(board[1]) + \" | \" + str(board[2]) + \" | \" + str(board[3]))\n",
    "    print(\"---|---|---\")\n",
    "    print(\" \" + str(board[4]) + \" | \" + str(board[5]) + \" | \" + str(board[6]))\n",
    "    print(\"---|---|---\")\n",
    "    print(\" \" + str(board[7]) + \" | \" + str(board[8]) + \" | \" + str(board[9]))\n",
    "\n",
    "choices = [1, 2, 3, 4, 5, 6, 7, 8, 9]\n",
    "user = []\n",
    "computer = []\n",
    "turns = 9\n",
    "wonFlag = False\n",
    "board = {i: \" \" for i in range(1, 10)}\n",
    "\n",
    "print(\"Welcome to Tic-Tac-Toe!\")\n",
    "\n",
    "while turns > 0:\n",
    "    print_board()\n",
    "    if turns % 2 == 0:\n",
    "        computer_choice = random.choice(choices)\n",
    "        print(\"\\nComputer's Turn (O): {}\".format(computer_choice))\n",
    "        choices.remove(computer_choice)\n",
    "        computer.append(computer_choice)\n",
    "        board[computer_choice] = \"O\"\n",
    "    else:\n",
    "        while True:\n",
    "            user_choice = int(input(\"\\nYour Turn (X) - Please input a number: \"))\n",
    "            if user_choice in choices:\n",
    "                break\n",
    "            print(\"Invalid choice. Please enter a valid number from the remaining choices.\")\n",
    "        choices.remove(user_choice)\n",
    "        user.append(user_choice)\n",
    "        board[user_choice] = \"X\"\n",
    "    \n",
    "    if checkWin(user):\n",
    "        print_board()\n",
    "        print(\"\\nCongratulations! You won!\")\n",
    "        wonFlag = True\n",
    "        break\n",
    "    if checkWin(computer):\n",
    "        print_board()\n",
    "        print(\"\\nComputer wins! Better luck next time.\")\n",
    "        wonFlag = True\n",
    "        break\n",
    "    \n",
    "    turns -= 1\n",
    "\n",
    "if not wonFlag:\n",
    "    print_board()\n",
    "    print(\"\\nIt's a draw! No one wins.\")\n",
    "\n",
    "print(\"\\nThanks for playing Tic-Tac-Toe!\")\n"
   ]
  },
  {
   "cell_type": "code",
   "execution_count": null,
   "id": "9fe2356a-ac10-4b35-9b87-ad38ebcd2bdf",
   "metadata": {},
   "outputs": [],
   "source": [
    "#36. Write a program that generates Fibonacci numbers up to a specified term using iterative methods."
   ]
  },
  {
   "cell_type": "code",
   "execution_count": null,
   "id": "ed8fbc28-26bd-4356-b109-ca804e6bdc16",
   "metadata": {},
   "outputs": [],
   "source": [
    "def fibonacci(n):\n",
    "    fib = []\n",
    "    if n>=1:\n",
    "        fib.append(0)\n",
    "    if n>=2:\n",
    "        fib.append(1)\n",
    "    for i in range(2,n):\n",
    "        next_fibo = fib[-1] + fib[-2]\n",
    "        fib.append(next_fibo)\n",
    "    return fib;\n",
    "n = int(input(\"enter the number\"))\n",
    "result = fibonacci(n)\n",
    "print(result)"
   ]
  },
  {
   "cell_type": "code",
   "execution_count": null,
   "id": "7a5c35cf-2aa9-480d-b321-e3b590abf288",
   "metadata": {},
   "outputs": [],
   "source": [
    "37. Develop a program that calculates the nth term of the Fibonacci sequence using memoization"
   ]
  },
  {
   "cell_type": "code",
   "execution_count": null,
   "id": "3d32e530-cafd-4053-b0f0-09d95da11e02",
   "metadata": {},
   "outputs": [],
   "source": [
    "# Dictionary to store memoized Fibonacci values\n",
    "fib_memo = {}\n",
    "\n",
    "def fibonacci(n):\n",
    "    # Check if the value is already memoized\n",
    "    if n in fib_memo:\n",
    "        return fib_memo[n]\n",
    "    \n",
    "    # Base cases\n",
    "    if n <= 0:\n",
    "        return 0\n",
    "    elif n == 1:\n",
    "        return 1\n",
    "    \n",
    "    # Calculate and memoize the Fibonacci value\n",
    "    fib_value = fibonacci(n - 1) + fibonacci(n - 2)\n",
    "    fib_memo[n] = fib_value\n",
    "    \n",
    "    return fib_value\n",
    "\n",
    "# Input from the user\n",
    "n = int(input(\"Enter the value of n: \"))\n",
    "\n",
    "# Calculate the nth Fibonacci term using memoization\n",
    "result = fibonacci(n)\n",
    "\n",
    "# Print the result\n",
    "print(f\"The {n}th Fibonacci term is: {result}\")\n"
   ]
  },
  {
   "cell_type": "code",
   "execution_count": null,
   "id": "9324bcf6-f131-405b-9cbb-245b8fe94877",
   "metadata": {},
   "outputs": [],
   "source": [
    "38. Create a program that generates a calendar for a given month and year using conditional statements"
   ]
  },
  {
   "cell_type": "code",
   "execution_count": null,
   "id": "fb78bc3c-c754-4e83-8057-3b96c358dac7",
   "metadata": {},
   "outputs": [],
   "source": [
    "import calendar\n",
    "yy = int(input(\"enter the year\"))\n",
    "mm = int(input(\"enter the mm\"))\n",
    "print(calendar.month(yy,mm))"
   ]
  },
  {
   "cell_type": "code",
   "execution_count": null,
   "id": "82ff106b-6816-4bb6-90a1-25fc3d3fabb9",
   "metadata": {},
   "outputs": [],
   "source": [
    "39. Build a program that simulates a basic text-based blackjack game against the computer."
   ]
  },
  {
   "cell_type": "code",
   "execution_count": null,
   "id": "715b215d-7c15-4182-98f6-c7f7852ffb49",
   "metadata": {},
   "outputs": [],
   "source": [
    "import random\n",
    "\n",
    "card_categories = ['Hearts', 'Diamonds', 'Clubs', 'Spades']\n",
    "cards_list = ['Ace', '2', '3', '4', '5', '6', '7', '8', '9', '10', 'Jack', 'Queen', 'King']\n",
    "deck = [(card, category) for category in card_categories for card in cards_list]\n",
    "\n",
    "def card_value(card):\n",
    "\tif card[0] in ['Jack', 'Queen', 'King']:\n",
    "\t\treturn 10\n",
    "\telif card[0] == 'Ace':\n",
    "\t\treturn 11\n",
    "\telse:\n",
    "\t\treturn int(card[0])\n",
    "\n",
    "random.shuffle(deck)\n",
    "player_card = [deck.pop(), deck.pop()]\n",
    "dealer_card = [deck.pop(), deck.pop()]\n",
    "\n",
    "while True:\n",
    "\tplayer_score = sum(card_value(card) for card in player_card)\n",
    "\tdealer_score = sum(card_value(card) for card in dealer_card)\n",
    "\tprint(\"Cards Player Has:\", player_card)\n",
    "\tprint(\"Score Of The Player:\", player_score)\n",
    "\tprint(\"\\n\")\n",
    "\tchoice = input('What do you want? [\"play\" to request another card, \"stop\" to stop]: ').lower()\n",
    "\tif choice == \"play\":\n",
    "\t\tnew_card = deck.pop()\n",
    "\t\tplayer_card.append(new_card)\n",
    "\telif choice == \"stop\":\n",
    "\t\tbreak\n",
    "\telse:\n",
    "\t\tprint(\"Invalid choice. Please try again.\")\n",
    "\t\tcontinue\n",
    "\n",
    "\tif player_score > 21:\n",
    "\t\tprint(\"Cards Dealer Has:\", dealer_card)\n",
    "\t\tprint(\"Score Of The Dealer:\", dealer_score)\n",
    "\t\tprint(\"Cards Player Has:\", player_card)\n",
    "\t\tprint(\"Score Of The Player:\", player_score)\n",
    "\t\tprint(\"Dealer wins (Player Loss Because Player Score is exceeding 21)\")\n",
    "\t\tbreak\n",
    "\n",
    "while dealer_score < 17:\n",
    "\tnew_card = deck.pop()\n",
    "\tdealer_card.append(new_card)\n",
    "\tdealer_score += card_value(new_card)\n",
    "\n",
    "print(\"Cards Dealer Has:\", dealer_card)\n",
    "print(\"Score Of The Dealer:\", dealer_score)\n",
    "print(\"\\n\")\n",
    "\n",
    "if dealer_score > 21:\n",
    "\tprint(\"Cards Dealer Has:\", dealer_card)\n",
    "\tprint(\"Score Of The Dealer:\", dealer_score)\n",
    "\tprint(\"Cards Player Has:\", player_card)\n",
    "\tprint(\"Score Of The Player:\", player_score)\n",
    "\tprint(\"Player wins (Dealer Loss Because Dealer Score is exceeding 21)\")\n",
    "elif player_score > dealer_score:\n",
    "\tprint(\"Cards Dealer Has:\", dealer_card)\n",
    "\tprint(\"Score Of The Dealer:\", dealer_score)\n",
    "\tprint(\"Cards Player Has:\", player_card)\n",
    "\tprint(\"Score Of The Player:\", player_score)\n",
    "\tprint(\"Player wins (Player Has High Score than Dealer)\")\n",
    "elif dealer_score > player_score:\n",
    "\tprint(\"Cards Dealer Has:\", dealer_card)\n",
    "\tprint(\"Score Of The Dealer:\", dealer_score)\n",
    "\tprint(\"Cards Player Has:\", player_card)\n",
    "\tprint(\"Score Of The Player:\", player_score)\n",
    "\tprint(\"Dealer wins (Dealer Has High Score than Player)\")\n",
    "else:\n",
    "\tprint(\"Cards Dealer Has:\", dealer_card)\n",
    "\tprint(\"Score Of The Dealer:\", dealer_score)\n",
    "\tprint(\"Cards Player Has:\", player_card)\n",
    "\tprint(\"Score Of The Player:\", player_score)\n",
    "\tprint(\"It's a tie.\")\n"
   ]
  },
  {
   "cell_type": "code",
   "execution_count": null,
   "id": "0794656e-27bf-411c-a714-e8486d847151",
   "metadata": {},
   "outputs": [],
   "source": [
    "40. Write a program that generates the prime factors of a given number using trial division"
   ]
  },
  {
   "cell_type": "code",
   "execution_count": null,
   "id": "661a4c5c-2707-4a21-a7e1-177d376d3cbc",
   "metadata": {},
   "outputs": [],
   "source": [
    "def prime_factors(n):\n",
    "    factors = []\n",
    "    # Start with the smallest prime number, 2\n",
    "    divisor = 2\n",
    "    while divisor <= n:\n",
    "        # Check if 'divisor' is a factor of 'n'\n",
    "        if n % divisor == 0:\n",
    "            # If it is a factor, add it to the list of factors\n",
    "            factors.append(divisor)\n",
    "            # Reduce 'n' by dividing it by 'divisor'\n",
    "            n //= divisor\n",
    "        else:\n",
    "            # If 'divisor' is not a factor, increment it\n",
    "            divisor += 1\n",
    "    return factors\n",
    "\n",
    "# Input from the user\n",
    "number = int(input(\"Enter a positive integer: \"))\n",
    "\n",
    "if number <= 0:\n",
    "    print(\"Please enter a positive integer.\")\n",
    "else:\n",
    "    factors = prime_factors(number)\n",
    "    if len(factors) == 1:\n",
    "        print(f\"The prime factor of {number} is {factors[0]}.\")\n",
    "    else:\n",
    "        print(f\"The prime factors of {number} are: {', '.join(map(str, factors))}\")\n",
    "\n",
    "        "
   ]
  },
  {
   "cell_type": "code",
   "execution_count": null,
   "id": "242bd7aa-f71e-42d2-ab89-d9f9573910b4",
   "metadata": {},
   "outputs": [],
   "source": []
  }
 ],
 "metadata": {
  "kernelspec": {
   "display_name": "Python 3 (ipykernel)",
   "language": "python",
   "name": "python3"
  },
  "language_info": {
   "codemirror_mode": {
    "name": "ipython",
    "version": 3
   },
   "file_extension": ".py",
   "mimetype": "text/x-python",
   "name": "python",
   "nbconvert_exporter": "python",
   "pygments_lexer": "ipython3",
   "version": "3.10.6"
  }
 },
 "nbformat": 4,
 "nbformat_minor": 5
}
